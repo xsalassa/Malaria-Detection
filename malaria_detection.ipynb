{
 "cells": [
  {
   "cell_type": "markdown",
   "metadata": {},
   "source": [
    "## Deteksi Malaria cell menggunakan Convolutional Neural Network"
   ]
  },
  {
   "cell_type": "markdown",
   "metadata": {},
   "source": [
    "### Steps to solve the problem :- \n",
    "   1. Importing Libraries.\n",
    "   2. Loading the data.\n",
    "   3. Data preprocessing.\n",
    "   4. Data augmentation.\n",
    "   5. Ploting images and its labels to understand how does an infected cell and uninfected cell looks like.\n",
    "   6. Spliting data in Train , Evaluation and Test set.\n",
    "   7. Creating a Convolution Neural Network function.\n",
    "   8. Wrapping it with Tensorflow Estimator function.\n",
    "   9. Training the data on Train data.\n",
    "   10. Evaluating on evaluation data.\n",
    "   11. Predicting on Test data\n",
    "   12. Ploting the predicted image and its respective True value and predicted value.\n",
    "   "
   ]
  },
  {
   "cell_type": "markdown",
   "metadata": {},
   "source": [
    "1. Masukkan Libraries"
   ]
  },
  {
   "cell_type": "code",
   "execution_count": null,
   "metadata": {},
   "outputs": [],
   "source": [
    "from __future__ import absolute_import, division, print_function\n",
    "import numpy as np\n",
    "import pandas as pd \n",
    "#import tensorflow as tf\n",
    "import tensorflow.compat.v1 as tf\n",
    "tf.disable_v2_behavior()\n",
    "import cv2\n",
    "import matplotlib.pyplot as plt\n",
    "import seaborn as sns\n",
    "from PIL import Image\n",
    "import os\n",
    "from tensorflow.python.framework import ops\n",
    "ops.reset_default_graph()\n",
    "print(os.listdir(\"/home/al-qarni/Belajar/malaria detection/malaria/cell_images\"))"
   ]
  },
  {
   "cell_type": "markdown",
   "metadata": {},
   "source": [
    "2. Loading the data."
   ]
  },
  {
   "cell_type": "code",
   "execution_count": null,
   "metadata": {},
   "outputs": [],
   "source": [
    "infected = os.listdir(\"/home/al-qarni/Belajar/malaria detection/malaria/cell_images/Parasitized\")\n",
    "uninfected = os.listdir(\"/home/al-qarni/Belajar/malaria detection/malaria/cell_images/Uninfected\")"
   ]
  },
  {
   "cell_type": "markdown",
   "metadata": {},
   "source": [
    "3. Pemrosesan Data"
   ]
  },
  {
   "cell_type": "code",
   "execution_count": null,
   "metadata": {},
   "outputs": [],
   "source": [
    "data = []\n",
    "labels = []\n",
    "\n",
    "for i in infected:\n",
    "    try:\n",
    "        \n",
    "        image = cv2.imread(\"home/al-qarni/Belajar/malaria detection/malaria/cell_images/Parasitized/\"+i)\n",
    "        image_array = Image.fromarray(image , 'RGB')\n",
    "        resize_img = image_array.resize((50 , 50))\n",
    "        rotated45 = resize_img.rotate(45)\n",
    "        rotated75 = resize_img.rotate(75)\n",
    "        blur = cv2.blur(np.array(resize_img) ,(10,10))\n",
    "        data.append(np.array(resize_img))\n",
    "        data.append(np.array(rotated45))\n",
    "        data.append(np.array(rotated75))\n",
    "        data.append(np.array(blur))\n",
    "        labels.append(1)\n",
    "        labels.append(1)\n",
    "        labels.append(1)\n",
    "        labels.append(1)\n",
    "        \n",
    "    except AttributeError:\n",
    "        print('')\n",
    "        \n",
    "for u in uninfected:\n",
    "    try:\n",
    "        \n",
    "        image = cv2.imread(\"/home/al-qarni/Belajar/malaria detection/malaria/cell_images/Uninfected/\"+u)\n",
    "        image_array = Image.fromarray(image , 'RGB')\n",
    "        resize_img = image_array.resize((50 , 50))\n",
    "        rotated45 = resize_img.rotate(45)\n",
    "        rotated75 = resize_img.rotate(75)\n",
    "        data.append(np.array(resize_img))\n",
    "        data.append(np.array(rotated45))\n",
    "        data.append(np.array(rotated75))\n",
    "        labels.append(0)\n",
    "        labels.append(0)\n",
    "        labels.append(0)\n",
    "        \n",
    "    except AttributeError:\n",
    "        print('')\n",
    "        "
   ]
  },
  {
   "cell_type": "markdown",
   "metadata": {},
   "source": [
    "4. Data Augmentation"
   ]
  },
  {
   "cell_type": "code",
   "execution_count": null,
   "metadata": {},
   "outputs": [],
   "source": [
    "cells = np.array(data)\n",
    "labels = np.array(labels)\n",
    "\n",
    "np.save('Cells' , cells)\n",
    "np.save('Labels' , labels)"
   ]
  },
  {
   "cell_type": "code",
   "execution_count": null,
   "metadata": {},
   "outputs": [],
   "source": [
    "print('Cells : {} | labels : {}'.format(cells.shape , labels.shape))"
   ]
  },
  {
   "cell_type": "markdown",
   "metadata": {},
   "source": [
    "5. Ploting images and its labels to understand how does an infected cell and uninfected cell looks like."
   ]
  },
  {
   "cell_type": "code",
   "execution_count": null,
   "metadata": {},
   "outputs": [],
   "source": [
    "plt.figure(1 , figsize = (15 , 9))\n",
    "n = 0 \n",
    "for i in range(49):\n",
    "    n += 1 \n",
    "    r = np.random.randint(0 , cells.shape[0] , 1)\n",
    "    plt.subplot(7 , 7 , n)\n",
    "    plt.subplots_adjust(hspace = 0.5 , wspace = 0.5)\n",
    "    plt.imshow(cells[r[0]])\n",
    "    plt.title('{} : {}'.format('Infected' if labels[r[0]] == 1 else 'Unifected' ,\n",
    "                               labels[r[0]]) )\n",
    "    plt.xticks([]) , plt.yticks([])\n",
    "    \n",
    "plt.show()"
   ]
  },
  {
   "cell_type": "code",
   "execution_count": null,
   "metadata": {},
   "outputs": [],
   "source": [
    "plt.figure(1, figsize = (15 , 7))\n",
    "plt.subplot(1 , 2 , 1)\n",
    "plt.imshow(cells[0])\n",
    "plt.title('Infected Cell')\n",
    "plt.xticks([]) , plt.yticks([])\n",
    "\n",
    "plt.subplot(1 , 2 , 2)\n",
    "plt.imshow(cells[20000])\n",
    "plt.title('Uninfected Cell')\n",
    "plt.xticks([]) , plt.yticks([])\n",
    "\n",
    "plt.show()"
   ]
  },
  {
   "cell_type": "code",
   "execution_count": null,
   "metadata": {},
   "outputs": [],
   "source": [
    "n = np.arange(cells.shape[0])\n",
    "np.random.shuffle(n)\n",
    "cells = cells[n]\n",
    "labels = labels[n]"
   ]
  },
  {
   "cell_type": "code",
   "execution_count": null,
   "metadata": {},
   "outputs": [],
   "source": [
    "cells = cells.astype(np.float32)\n",
    "labels = labels.astype(np.int32)\n",
    "cells = cells/255"
   ]
  },
  {
   "cell_type": "markdown",
   "metadata": {},
   "source": [
    "6. Spliting data in Train , Evaluation and Test set."
   ]
  },
  {
   "cell_type": "code",
   "execution_count": null,
   "metadata": {},
   "outputs": [],
   "source": [
    "from sklearn.model_selection import train_test_split\n",
    "\n",
    "train_x , x , train_y , y = train_test_split(cells , labels , \n",
    "                                            test_size = 0.2 ,\n",
    "                                            random_state = 111)\n",
    "\n",
    "eval_x , test_x , eval_y , test_y = train_test_split(x , y , \n",
    "                                                    test_size = 0.5 , \n",
    "                                                    random_state = 111)"
   ]
  },
  {
   "cell_type": "code",
   "execution_count": null,
   "metadata": {},
   "outputs": [],
   "source": [
    "plt.figure(1 , figsize = (15 ,5))\n",
    "n = 0 \n",
    "for z , j in zip([train_y , eval_y , test_y] , ['train labels','eval labels','test labels']):\n",
    "    n += 1\n",
    "    plt.subplot(1 , 3  , n)\n",
    "    sns.countplot(x = z )\n",
    "    plt.title(j)\n",
    "plt.show()"
   ]
  },
  {
   "cell_type": "code",
   "execution_count": null,
   "metadata": {},
   "outputs": [],
   "source": [
    "print('train data shape {} ,eval data shape {} , test data shape {}'.format(train_x.shape,\n",
    "                                                                           eval_x.shape ,\n",
    "                                                                           test_x.shape))"
   ]
  },
  {
   "cell_type": "code",
   "execution_count": null,
   "metadata": {},
   "outputs": [],
   "source": [
    "tf.reset_default_graph()\n",
    "def cnn_model_fn(features , labels , mode):\n",
    "    input_layers = tf.reshape(features['x'] , [-1 , 50 , 50 ,3])    \n",
    "    conv1 = tf.layers.conv2d(\n",
    "        inputs = input_layers , \n",
    "        filters = 50 , \n",
    "        kernel_size = [7 , 7],\n",
    "        padding = 'same',\n",
    "        activation = tf.nn.relu\n",
    "        ) \n",
    "    \n",
    "    \n",
    "    conv2 = tf.layers.conv2d(\n",
    "        inputs = conv1, \n",
    "        filters = 90,\n",
    "        kernel_size = [3 , 3],\n",
    "        padding = 'valid',\n",
    "        activation = tf.nn.relu\n",
    "        )\n",
    "\n",
    "        \n",
    "    conv3 = tf.layers.conv2d(\n",
    "        inputs = conv2 ,\n",
    "        filters = 10,\n",
    "        kernel_size = [5 , 5],\n",
    "        padding = 'same', \n",
    "        activation = tf.nn.relu\n",
    "        )\n",
    "    \n",
    "    pool1 = tf.layers.max_pooling2d(inputs = conv3 , pool_size = [2 , 2] ,\n",
    "                                    strides = 2 )\n",
    "    conv4 = tf.layers.conv2d(\n",
    "        inputs = pool1 ,\n",
    "        filters = 5,\n",
    "        kernel_size = [3 , 3],\n",
    "        padding = 'same', \n",
    "        activation = tf.nn.relu\n",
    "        )\n",
    "\n",
    "    pool2 = tf.layers.max_pooling2d(inputs = conv4 , pool_size = [2 , 2] ,\n",
    "                                    strides = 2 , padding = 'same')\n",
    "    \n",
    "    pool2_flatten = tf.layers.flatten(pool2)\n",
    "    fc1 = tf.layers.dense(\n",
    "        inputs = pool2_flatten,\n",
    "        units = 2000,\n",
    "        activation = tf.nn.relu\n",
    "        )\n",
    "    fc2 = tf.layers.dense(\n",
    "        inputs = fc1,\n",
    "        units = 1000,\n",
    "        activation = tf.nn.relu\n",
    "        )\n",
    "    fc3 = tf.layers.dense(\n",
    "        inputs = fc2 , \n",
    "        units = 500 ,\n",
    "        activation = tf.nn.relu\n",
    "        )\n",
    "    logits = tf.layers.dense(\n",
    "        inputs = fc3 ,\n",
    "        units = 2\n",
    "        )\n",
    "    \n",
    "    predictions = {\n",
    "        'classes': tf.argmax(input = logits , axis = 1),\n",
    "        'probabilities': tf.nn.softmax(logits , name = 'softmax_tensor')\n",
    "    }\n",
    "    \n",
    "    if mode == tf.estimator.ModeKeys.PREDICT:\n",
    "        return tf.estimator.EstimatorSpec(mode = mode , \n",
    "                                          predictions = predictions)\n",
    "    \n",
    "    loss = tf.losses.sparse_softmax_cross_entropy(labels = labels , \n",
    "                                                 logits = logits)\n",
    "    \n",
    "    if mode == tf.estimator.ModeKeys.TRAIN:\n",
    "        optimizer = tf.train.GradientDescentOptimizer(learning_rate = 0.001)\n",
    "        train_op = optimizer.minimize(loss = loss , \n",
    "                                      global_step = tf.train.get_global_step())\n",
    "        \n",
    "        return tf.estimator.EstimatorSpec(mode = mode , \n",
    "                                            loss = loss , \n",
    "                                            train_op = train_op \n",
    "                                           )\n",
    "    eval_metric_op = {'accuracy' : tf.metrics.accuracy(labels = labels ,\n",
    "                                         predictions =  predictions['classes'])}\n",
    "    \n",
    "    return tf.estimator.EstimatorSpec(mode = mode , \n",
    "                                      loss = loss , \n",
    "                                      eval_metric_ops = eval_metric_op)    "
   ]
  },
  {
   "cell_type": "code",
   "execution_count": null,
   "metadata": {},
   "outputs": [],
   "source": [
    "malaria_detector = tf.estimator.Estimator(model_fn = cnn_model_fn , \n",
    "                                         model_dir = '/tmp/modelchkpt')"
   ]
  },
  {
   "cell_type": "code",
   "execution_count": null,
   "metadata": {},
   "outputs": [],
   "source": [
    "tensors_to_log = {'probabilities':'softmax_tensor'}\n",
    "logging_hook = tf.train.LoggingTensorHook(\n",
    "    tensors = tensors_to_log , every_n_iter = 50 \n",
    "    )"
   ]
  },
  {
   "cell_type": "code",
   "execution_count": null,
   "metadata": {},
   "outputs": [],
   "source": [
    "train_input_fn = tf.estimator.inputs.numpy_input_fn(\n",
    "    x = {'x': train_x},\n",
    "    y = train_y,\n",
    "    batch_size = 100 , \n",
    "    num_epochs = None , \n",
    "    shuffle = True\n",
    "    )\n",
    "malaria_detector.train(input_fn = train_input_fn , steps = 1 , hooks = [logging_hook])"
   ]
  },
  {
   "cell_type": "code",
   "execution_count": null,
   "metadata": {},
   "outputs": [],
   "source": [
    "malaria_detector.train(input_fn = train_input_fn , steps = 1000)"
   ]
  },
  {
   "cell_type": "code",
   "execution_count": null,
   "metadata": {},
   "outputs": [],
   "source": [
    "eval_input_fn = tf.estimator.inputs.numpy_input_fn(\n",
    "    x = {'x': eval_x},\n",
    "    y = eval_y , \n",
    "    num_epochs = 1 , \n",
    "    shuffle = False\n",
    "    )\n",
    "eval_results = malaria_detector.evaluate(input_fn = eval_input_fn)\n",
    "print(eval_results)"
   ]
  },
  {
   "cell_type": "code",
   "execution_count": null,
   "metadata": {},
   "outputs": [],
   "source": [
    "pred_input_fn = tf.estimator.inputs.numpy_input_fn(\n",
    "    x = {'x' : test_x},\n",
    "    y = test_y,\n",
    "    num_epochs = 1,\n",
    "    shuffle = False\n",
    "    )\n",
    "\n",
    "y_pred = malaria_detector.predict(input_fn = pred_input_fn)\n",
    "classes = [p['classes'] for p in y_pred]"
   ]
  },
  {
   "cell_type": "code",
   "execution_count": null,
   "metadata": {},
   "outputs": [],
   "source": [
    "from sklearn.metrics import confusion_matrix , classification_report , accuracy_score\n",
    "print('{} \\n{} \\n{}'.format(confusion_matrix(test_y , classes) , \n",
    "                           classification_report(test_y , classes) , \n",
    "                           accuracy_score(test_y , classes)))"
   ]
  },
  {
   "cell_type": "code",
   "execution_count": null,
   "metadata": {},
   "outputs": [],
   "source": [
    "plt.figure(1 , figsize = (15 , 9))\n",
    "n = 0 \n",
    "for i in range(49):\n",
    "    n += 1 \n",
    "    r = np.random.randint( 0  , test_x.shape[0] , 1)\n",
    "    plt.subplot(7 , 7 , n)\n",
    "    plt.subplots_adjust(hspace = 0.5 , wspace = 0.5)\n",
    "    plt.imshow(test_x[r[0]])\n",
    "    plt.title('true {} : pred {}'.format(test_y[r[0]] , classes[r[0]]) )\n",
    "    plt.xticks([]) , plt.yticks([])\n",
    "\n",
    "plt.show()"
   ]
  },
  {
   "cell_type": "code",
   "execution_count": null,
   "metadata": {},
   "outputs": [],
   "source": []
  }
 ],
 "metadata": {
  "kernelspec": {
   "display_name": "Python 3",
   "language": "python",
   "name": "python3"
  },
  "language_info": {
   "codemirror_mode": {
    "name": "ipython",
    "version": 3
   },
   "file_extension": ".py",
   "mimetype": "text/x-python",
   "name": "python",
   "nbconvert_exporter": "python",
   "pygments_lexer": "ipython3",
   "version": "3.8.1"
  }
 },
 "nbformat": 4,
 "nbformat_minor": 4
}
